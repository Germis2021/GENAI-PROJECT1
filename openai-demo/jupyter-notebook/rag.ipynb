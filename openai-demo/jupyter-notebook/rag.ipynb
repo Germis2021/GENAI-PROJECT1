{
 "cells": [
  {
   "cell_type": "code",
   "execution_count": null,
   "id": "df875320",
   "metadata": {},
   "outputs": [],
   "source": [
    "\n",
    "%pip install  langchain langchain-openai langchain_chroma langchain_community langchainhub \n",
    "\n",
    "\n"
   ]
  },
  {
   "cell_type": "code",
   "execution_count": 3,
   "id": "cd690121",
   "metadata": {},
   "outputs": [],
   "source": [
    "\n",
    "import os\n",
    "from dotenv import load_dotenv\n",
    "\n",
    "from langchain.document_loaders import WebBaseLoader\n",
    "\n",
    "import bs4\n",
    "\n",
    "load_dotenv()\n",
    "\n",
    "token = os.getenv(\"SECRET\")\n",
    "endpoint = \"https://models.github.ai/inference\"\n",
    "model = \"openai/gpt-4.1-nano\"\n",
    "\n",
    "\n",
    "from langchain_openai import ChatOpenAI\n",
    "\n",
    "llm = ChatOpenAI(model=model, base_url=endpoint, api_key=token )\n"
   ]
  },
  {
   "cell_type": "code",
   "execution_count": 4,
   "id": "6cddac56",
   "metadata": {},
   "outputs": [],
   "source": [
    "import bs4\n",
    "from langchain import hub\n",
    "from langchain_chroma import Chroma\n",
    "from langchain_community.document_loaders import WebBaseLoader\n",
    "from langchain_core.output_parsers import StrOutputParser\n",
    "from langchain_core.runnables import RunnablePassthrough\n",
    "from langchain_openai import OpenAIEmbeddings\n",
    "from langchain_text_splitters import RecursiveCharacterTextSplitter"
   ]
  },
  {
   "cell_type": "code",
   "execution_count": 5,
   "id": "936ea892",
   "metadata": {},
   "outputs": [
    {
     "name": "stdout",
     "output_type": "stream",
     "text": [
      "Defaulting to user installation because normal site-packages is not writeable\n",
      "Note: you may need to restart the kernel to use updated packages.\n"
     ]
    },
    {
     "name": "stderr",
     "output_type": "stream",
     "text": [
      "ERROR: Could not find a version that satisfies the requirement WebBaseLoader (from versions: none)\n",
      "\n",
      "[notice] A new release of pip is available: 25.0.1 -> 25.1.1\n",
      "[notice] To update, run: C:\\Users\\RYZAS10\\AppData\\Local\\Microsoft\\WindowsApps\\PythonSoftwareFoundation.Python.3.13_qbz5n2kfra8p0\\python.exe -m pip install --upgrade pip\n",
      "ERROR: No matching distribution found for WebBaseLoader\n"
     ]
    }
   ],
   "source": [
    "pip install WebBaseLoader"
   ]
  },
  {
   "cell_type": "code",
   "execution_count": 1,
   "id": "8a9a8284",
   "metadata": {},
   "outputs": [
    {
     "ename": "NameError",
     "evalue": "name 'WebBaseLoader' is not defined",
     "output_type": "error",
     "traceback": [
      "\u001b[31m---------------------------------------------------------------------------\u001b[39m",
      "\u001b[31mNameError\u001b[39m                                 Traceback (most recent call last)",
      "\u001b[36mCell\u001b[39m\u001b[36m \u001b[39m\u001b[32mIn[1]\u001b[39m\u001b[32m, line 2\u001b[39m\n\u001b[32m      1\u001b[39m \u001b[38;5;66;03m# Load, chunk and index the contents of the blog.\u001b[39;00m\n\u001b[32m----> \u001b[39m\u001b[32m2\u001b[39m loader = \u001b[43mWebBaseLoader\u001b[49m(\n\u001b[32m      3\u001b[39m     web_paths=(\u001b[33m\"\u001b[39m\u001b[33mhttps://lilianweng.github.io/posts/2017-06-21-overview/\u001b[39m\u001b[33m\"\u001b[39m,),\n\u001b[32m      4\u001b[39m         bs_kwargs=\u001b[38;5;28mdict\u001b[39m(\n\u001b[32m      5\u001b[39m         parse_only=bs4.SoupStrainer(\n\u001b[32m      6\u001b[39m             class_=(\u001b[33m\"\u001b[39m\u001b[33mpost-content\u001b[39m\u001b[33m\"\u001b[39m, \u001b[33m\"\u001b[39m\u001b[33mpost-title\u001b[39m\u001b[33m\"\u001b[39m, \u001b[33m\"\u001b[39m\u001b[33mpost-header\u001b[39m\u001b[33m\"\u001b[39m)\n\u001b[32m      7\u001b[39m         )\n\u001b[32m      8\u001b[39m     ),\n\u001b[32m      9\u001b[39m )\n\u001b[32m     10\u001b[39m docs = loader.load()\n\u001b[32m     16\u001b[39m text_splitter = RecursiveCharacterTextSplitter(chunk_size=\u001b[32m1000\u001b[39m, chunk_overlap=\u001b[32m200\u001b[39m)\n",
      "\u001b[31mNameError\u001b[39m: name 'WebBaseLoader' is not defined"
     ]
    }
   ],
   "source": [
    "# Load, chunk and index the contents of the blog.\n",
    "loader = WebBaseLoader(\n",
    "    web_paths=(\"https://lilianweng.github.io/posts/2017-06-21-overview/\",),\n",
    "        bs_kwargs=dict(\n",
    "        parse_only=bs4.SoupStrainer(\n",
    "            class_=(\"post-content\", \"post-title\", \"post-header\")\n",
    "        )\n",
    "    ),\n",
    ")\n",
    "docs = loader.load()\n",
    "\n",
    "\n",
    "\n",
    "\n",
    "\n",
    "text_splitter = RecursiveCharacterTextSplitter(chunk_size=1000, chunk_overlap=200)\n",
    "splits = text_splitter.split_documents(docs)\n",
    "vectorstore = Chroma.from_documents(documents=splits, embedding=OpenAIEmbeddings(\n",
    "    model=\"text-embedding-3-small\",\n",
    "    base_url=\"https://models.inference.ai.azure.com\",\n",
    "    api_key=token,\n",
    "))\n",
    "\n"
   ]
  }
 ],
 "metadata": {
  "kernelspec": {
   "display_name": "Python 3",
   "language": "python",
   "name": "python3"
  },
  "language_info": {
   "codemirror_mode": {
    "name": "ipython",
    "version": 3
   },
   "file_extension": ".py",
   "mimetype": "text/x-python",
   "name": "python",
   "nbconvert_exporter": "python",
   "pygments_lexer": "ipython3",
   "version": "3.13.3"
  }
 },
 "nbformat": 4,
 "nbformat_minor": 5
}
