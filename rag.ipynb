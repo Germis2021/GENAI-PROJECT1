{
 "cells": [
  {
   "cell_type": "code",
   "execution_count": null,
   "id": "df875320",
   "metadata": {},
   "outputs": [],
   "source": [
    "print (\"hello class\")\n",
    "%pip install -qU langchain langchain-openai langchain_chroma langchain_community langchainhub\n",
    "\n",
    "import getpass\n",
    "import os\n",
    "\n",
    "token = os.getenv(\"SECRET\")\n",
    "endpoint = \"https://models.github.ai/inference\"\n",
    "model = \"openai/gpt-4.1-nano\"\n",
    "\n",
    "from langchain_openai import ChatOpenAI\n",
    "\n",
    "llm = ChatOpenAI(model=\"gpt-3.5-turbo-0125\")"
   ]
  }
 ],
 "metadata": {
  "kernelspec": {
   "display_name": "Python 3",
   "language": "python",
   "name": "python3"
  },
  "language_info": {
   "codemirror_mode": {
    "name": "ipython",
    "version": 3
   },
   "file_extension": ".py",
   "mimetype": "text/x-python",
   "name": "python",
   "nbconvert_exporter": "python",
   "pygments_lexer": "ipython3",
   "version": "3.13.3"
  }
 },
 "nbformat": 4,
 "nbformat_minor": 5
}
